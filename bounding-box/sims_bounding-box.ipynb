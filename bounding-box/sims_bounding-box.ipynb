{
 "cells": [
  {
   "cell_type": "markdown",
   "metadata": {},
   "source": [
    "# Bounding Box Approach\n",
    "\n",
    "Preliminary experiments to design bounding box approach. "
   ]
  },
  {
   "cell_type": "code",
   "execution_count": 1,
   "metadata": {},
   "outputs": [],
   "source": [
    "import numpy as np\n",
    "import cv2\n",
    "\n",
    "import matplotlib.pyplot as plt\n",
    "%matplotlib inline\n",
    "\n",
    "import box as box"
   ]
  },
  {
   "cell_type": "markdown",
   "metadata": {},
   "source": [
    "## Simulate Data"
   ]
  },
  {
   "cell_type": "code",
   "execution_count": 2,
   "metadata": {},
   "outputs": [],
   "source": [
    "def simulate_data(dim, n_samples):\n",
    "    \"\"\" Creates n simulated bounding boxes of a random color on a black grid of size dim.\n",
    "        Returns the list of bounding box coordinates and the image of the data.\n",
    "        Inputs:\n",
    "            dim - dimension at which data is to be simulated, as [cols, rows].\n",
    "            n_samples - number of bounding boxes to generate on the grid.\n",
    "        Returns:\n",
    "            box_list - list of bounding box coordinates, where each entry in the list is\n",
    "                a set of bounding box coordinates, given as an ndarray in the form \n",
    "                [y1, x1, y2, x2].\n",
    "            img - image of simulated data.\n",
    "    \"\"\"\n",
    "    # get dimensions\n",
    "    cols, rows = dim\n",
    "    # create list for storing data [for image display]\n",
    "    box_list = []\n",
    "    for n in range(n_samples):\n",
    "        # create rectangle at random location\n",
    "        x1 = np.random.randint(cols)\n",
    "        y1 = np.random.randint(rows)\n",
    "        height = 2*np.random.randint(48,72) # get height between 4 and 6 feet (1 in = 2 pixel)\n",
    "        x2 = x1 + height\n",
    "        y2 = y1 + np.random.randint(12,height)\n",
    "        # record keypoints in list\n",
    "        box_list.append([y1,x1,y2,x2])\n",
    "    # show image\n",
    "    img = np.zeros((rows,cols,3), np.uint8)\n",
    "    # for all sets of original points\n",
    "    for idx, pts in enumerate(box_list):\n",
    "        # draw rectangle of random color at selected location\n",
    "        color = (np.random.randint(256),np.random.randint(256),np.random.randint(256))\n",
    "        cv2.rectangle(img,(pts[0],pts[1]),(pts[2],pts[3]),color,3)\n",
    "    # show image\n",
    "    plt.figure()\n",
    "    plt.imshow(img)\n",
    "    plt.show()\n",
    "    # return list of points and image data\n",
    "    return box_list, img"
   ]
  },
  {
   "cell_type": "code",
   "execution_count": 3,
   "metadata": {},
   "outputs": [
    {
     "data": {
      "image/png": "[encoded data removed]",
      "text/plain": [
       "<Figure size 432x288 with 1 Axes>"
      ]
     },
     "metadata": {
      "needs_background": "light"
     },
     "output_type": "display_data"
    }
   ],
   "source": [
    "cols = 800\n",
    "rows = 600\n",
    "n_samples = 3\n",
    "\n",
    "sim_box_list, img = simulate_data((cols, rows), n_samples)"
   ]
  },
  {
   "cell_type": "markdown",
   "metadata": {},
   "source": [
    "## Analyze Bounding Boxes (Simple Average)"
   ]
  },
  {
   "cell_type": "code",
   "execution_count": 4,
   "metadata": {},
   "outputs": [
    {
     "data": {
      "text/plain": [
       "[[334, 260, 455, 398], [599, 522, 703, 654], [408, 360, 493, 482]]"
      ]
     },
     "execution_count": 4,
     "metadata": {},
     "output_type": "execute_result"
    }
   ],
   "source": [
    "sim_box_list"
   ]
  },
  {
   "cell_type": "code",
   "execution_count": 5,
   "metadata": {},
   "outputs": [
    {
     "name": "stdout",
     "output_type": "stream",
     "text": [
      "Average distance between people (ft): 12.771179375985753\n",
      "Number of pairs of people not socially distanced: 1\n",
      "Pairwise distance array:\n",
      " [[ 0.         19.04899639  5.6283658 ]\n",
      " [19.04899639  0.         13.63617594]\n",
      " [ 5.6283658  13.63617594  0.        ]]\n"
     ]
    }
   ],
   "source": [
    "avg_distance, distance_array = box.get_distances_simpleaverage(sim_box_list)\n",
    "num_pairs, pair_ids = box.count_undistanced(distance_array)\n",
    "\n",
    "print(\"Average distance between people (ft):\", avg_distance)\n",
    "print(\"Number of pairs of people not socially distanced:\", num_pairs)\n",
    "print(\"Pairwise distance array:\\n\", distance_array)"
   ]
  }
 ],
 "metadata": {
  "kernelspec": {
   "display_name": "Python 3",
   "language": "python",
   "name": "python3"
  },
  "language_info": {
   "codemirror_mode": {
    "name": "ipython",
    "version": 3
   },
   "file_extension": ".py",
   "mimetype": "text/x-python",
   "name": "python",
   "nbconvert_exporter": "python",
   "pygments_lexer": "ipython3",
   "version": "3.7.4"
  }
 },
 "nbformat": 4,
 "nbformat_minor": 2
}
