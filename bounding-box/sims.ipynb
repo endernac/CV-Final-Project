{
 "cells": [
  {
   "cell_type": "markdown",
   "metadata": {},
   "source": [
    "# Generalized Bounding Box Approach\n",
    "\n",
    "This notebook contains some preliminary experiments to design the generalized bounding box approach, which is implemented according to the procedures described in [Ghodgaonkar, et al. (2020)](https://arxiv.org/pdf/2008.12363.pdf)."
   ]
  },
  {
   "cell_type": "code",
   "execution_count": 1,
   "metadata": {},
   "outputs": [],
   "source": [
    "import numpy as np\n",
    "import cv2\n",
    "\n",
    "import matplotlib.pyplot as plt\n",
    "%matplotlib inline\n",
    "\n",
    "import bounding_box as box"
   ]
  },
  {
   "cell_type": "markdown",
   "metadata": {},
   "source": [
    "## Simulate Data\n",
    "\n",
    "First, we simulate some data. We assume that we are given the bounding box coordinates (in implementation, this would be the output from a person-detection algorithm), and so we simulate data as colored boxed on a black background and return the bounding box coordinates of each box."
   ]
  },
  {
   "cell_type": "code",
   "execution_count": 2,
   "metadata": {},
   "outputs": [],
   "source": [
    "def simulate_data(dim, n_samples):\n",
    "    \"\"\" Creates n simulated bounding boxes of a random color on a black grid of size dim.\n",
    "        Returns the list of bounding box coordinates and the image of the data.\n",
    "        Inputs:\n",
    "            dim - dimension at which data is to be simulated, as [cols, rows].\n",
    "            n_samples - number of bounding boxes to generate on the grid.\n",
    "        Returns:\n",
    "            box_list - list of bounding box coordinates, where each entry in the list is\n",
    "                a set of bounding box coordinates, given as an ndarray in the form \n",
    "                [y1, x1, y2, x2].\n",
    "            img - image of simulated data.\n",
    "    \"\"\"\n",
    "    # get dimensions\n",
    "    cols, rows = dim\n",
    "    # create list for storing data [for image display]\n",
    "    box_list = []\n",
    "    for n in range(n_samples):\n",
    "        # create rectangle at random location\n",
    "        x1 = np.random.randint(cols)\n",
    "        y1 = np.random.randint(rows)\n",
    "        height = np.random.randint(48,72) # get height between 4 and 6 feet (1 in = 1 px)\n",
    "        x2 = x1 + np.random.randint(12,height)\n",
    "        y2 = y1 + height\n",
    "        # record keypoints in list\n",
    "        box_list.append([y1,x1,y2,x2])\n",
    "    # show image\n",
    "    img = np.zeros((rows,cols,3), np.uint8)\n",
    "    # for all sets of original points\n",
    "    for idx, pts in enumerate(box_list):\n",
    "        # draw rectangle of random color at selected location\n",
    "        color = (np.random.randint(256),np.random.randint(256),np.random.randint(256))\n",
    "        cv2.rectangle(img,(pts[1],pts[0]),(pts[3],pts[2]),color,3)\n",
    "    # show image\n",
    "    plt.figure()\n",
    "    plt.imshow(img)\n",
    "    plt.show()\n",
    "    # return list of points and image data\n",
    "    return box_list, img"
   ]
  },
  {
   "cell_type": "markdown",
   "metadata": {},
   "source": [
    "Calling the above function, we get the following output of simulated data:"
   ]
  },
  {
   "cell_type": "code",
   "execution_count": 3,
   "metadata": {},
   "outputs": [
    {
     "data": {
      "image/png": "[encoded data removed]",
      "text/plain": [
       "<Figure size 432x288 with 1 Axes>"
      ]
     },
     "metadata": {
      "needs_background": "light"
     },
     "output_type": "display_data"
    }
   ],
   "source": [
    "cols = 800\n",
    "rows = 600\n",
    "n_samples = 10\n",
    "\n",
    "sim_box_list, img = simulate_data((cols, rows), n_samples)"
   ]
  },
  {
   "cell_type": "markdown",
   "metadata": {},
   "source": [
    "## Analyze Bounding Boxes \n",
    "\n",
    "To analyze the data, we use the relative sizing of each pair of boxes to gain an estimate of the ratio between inter-box distance and average box height.\n",
    "\n",
    "The steps, which are implemented in the function `count_undistanced` in `bounding_box.py`, are as follows:\n",
    "1. Calculate $P$, the \"depth similarity\", between a pair of bounding boxes, by dividing the area of the smaller bounding box by the area of the larger bounding box. \n",
    "2. Calculate $D$, euclidean distance between the center of the two boxes.\n",
    "3. Scale $D$ by the average bounding box height to gain $ID$, \"inverse relative distance\".\n",
    "4. Multiply $ID$ by $P$ to get a ratio value that indicates distance. If this product is less than $(6/5.4)=1.11$, the people are not social distancing.\n",
    "5. Return the count of number of people not socially distanced and their associated pair IDs, as well as the pairwise distance arrays, which gives the distances between pairs of boxes in pixel coordinates."
   ]
  },
  {
   "cell_type": "code",
   "execution_count": 4,
   "metadata": {},
   "outputs": [
    {
     "data": {
      "text/plain": [
       "[[107, 218, 178, 282],\n",
       " [267, 302, 323, 337],\n",
       " [30, 560, 86, 590],\n",
       " [13, 455, 78, 499],\n",
       " [327, 569, 397, 590],\n",
       " [287, 756, 352, 780],\n",
       " [79, 735, 144, 761],\n",
       " [190, 124, 240, 139],\n",
       " [238, 739, 302, 775],\n",
       " [218, 43, 278, 90]]"
      ]
     },
     "execution_count": 4,
     "metadata": {},
     "output_type": "execute_result"
    }
   ],
   "source": [
    "sim_box_list"
   ]
  },
  {
   "cell_type": "code",
   "execution_count": 5,
   "metadata": {},
   "outputs": [
    {
     "name": "stdout",
     "output_type": "stream",
     "text": [
      "Number of pairs of people not socially distanced: 4\n",
      "Pair IDs of those in violation of social distancing:\n",
      " [[0 7]\n",
      " [2 3]\n",
      " [5 8]\n",
      " [7 9]]\n",
      "Pairwise distance array:\n",
      " [[  0.         167.59027418 335.80537518 246.85623346 395.91728934\n",
      "  547.40569964 498.96392655 138.91904117 522.7860461  211.6660105 ]\n",
      " [167.59027418   0.         348.49569581 295.053385   268.49394779\n",
      "  449.16867656 466.13785515 204.31348463 438.21370357 257.32858372]\n",
      " [335.80537518 348.49569581   0.          98.79397755 304.0333041\n",
      "  325.00961524 181.08354426 470.46918071 279.40651388 542.83722238]\n",
      " [246.85623346 295.053385    98.79397755   0.         332.68378379\n",
      "  399.69613458 278.92113581 384.83827772 358.8875172  457.72972375]\n",
      " [395.91728934 268.49394779 304.0333041  332.68378379   0.\n",
      "  193.23172617 301.89816164 471.50079533 199.92561117 525.51403407]\n",
      " [547.40569964 449.16867656 325.00961524 399.69613458 193.23172617\n",
      "    0.         208.95932619 645.02131748  50.70749452 705.13438436]\n",
      " [498.96392655 466.13785515 181.08354426 278.92113581 301.89816164\n",
      "  208.95932619   0.         625.12758698 158.75531487 695.0356106 ]\n",
      " [138.91904117 204.31348463 470.46918071 384.83827772 471.50079533\n",
      "  645.02131748 625.12758698   0.         627.91340964  72.89718787]\n",
      " [522.7860461  438.21370357 279.40651388 358.8875172  199.92561117\n",
      "   50.70749452 158.75531487 627.91340964   0.         690.85038178]\n",
      " [211.6660105  257.32858372 542.83722238 457.72972375 525.51403407\n",
      "  705.13438436 695.0356106   72.89718787 690.85038178   0.        ]]\n"
     ]
    }
   ],
   "source": [
    "num_pairs, pair_ids, pairwise_distance_array = box.count_undistanced(sim_box_list)\n",
    "\n",
    "print(\"Number of pairs of people not socially distanced:\", num_pairs)\n",
    "print(\"Pair IDs of those in violation of social distancing:\\n\", pair_ids)\n",
    "print(\"Pairwise distance array:\\n\", pairwise_distance_array)"
   ]
  }
 ],
 "metadata": {
  "kernelspec": {
   "display_name": "Python 3",
   "language": "python",
   "name": "python3"
  },
  "language_info": {
   "codemirror_mode": {
    "name": "ipython",
    "version": 3
   },
   "file_extension": ".py",
   "mimetype": "text/x-python",
   "name": "python",
   "nbconvert_exporter": "python",
   "pygments_lexer": "ipython3",
   "version": "3.7.4"
  }
 },
 "nbformat": 4,
 "nbformat_minor": 2
}
